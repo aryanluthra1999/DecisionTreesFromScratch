{
 "cells": [
  {
   "cell_type": "code",
   "execution_count": 1,
   "metadata": {},
   "outputs": [],
   "source": [
    "from tqdm import tqdm_notebook as tqdm\n",
    "import numpy as np\n",
    "from sklearn.model_selection import train_test_split\n",
    "import pandas as pd\n",
    "from sklearn.preprocessing import normalize\n",
    "import scipy\n",
    "from pprint import pprint\n",
    "import io\n",
    "from collections import Counter\n",
    "\n",
    "import numpy as np\n",
    "import scipy.io\n",
    "import sklearn.model_selection\n",
    "import sklearn.tree\n",
    "from numpy import genfromtxt\n",
    "from scipy import stats\n",
    "from sklearn.base import BaseEstimator, ClassifierMixin\n",
    "import pandas as pd\n",
    "\n",
    "import pydot\n",
    "from decision_tree_starter import *\n",
    "from tqdm import tqdm_notebook as tqdm\n",
    "import matplotlib.pyplot as plt\n",
    "%matplotlib inline\n"
   ]
  },
  {
   "cell_type": "markdown",
   "metadata": {},
   "source": [
    "# Problem 1"
   ]
  },
  {
   "cell_type": "markdown",
   "metadata": {},
   "source": [
    "### Collaborators\n",
    "\n"
   ]
  },
  {
   "cell_type": "markdown",
   "metadata": {},
   "source": [
    "### Honor Code\n",
    "“I certify that all solutions in this document are entirely my own and that I have not looked at anyone else’s\n",
    "solution. I have given credit to all external sources I consulted.”\n",
    "\n",
    "Aryan Luthra"
   ]
  },
  {
   "cell_type": "code",
   "execution_count": 2,
   "metadata": {},
   "outputs": [
    {
     "data": {
      "text/latex": [
       "\n",
       "\\newpage\n"
      ],
      "text/plain": [
       "<IPython.core.display.Latex object>"
      ]
     },
     "metadata": {},
     "output_type": "display_data"
    }
   ],
   "source": [
    "%%latex\n",
    "\n",
    "\\newpage"
   ]
  },
  {
   "cell_type": "markdown",
   "metadata": {},
   "source": [
    "# Problem 2"
   ]
  },
  {
   "cell_type": "markdown",
   "metadata": {},
   "source": [
    "## Part a\n",
    "$$E[avg{[Y_i]}_{i=1}^n] = \\frac1n \\sum_{i=1}^n E[Y_i] = \\frac1n \\sum_{i=1}^n \\mu = \\mu$$\n",
    "\n",
    "$$Var[avg{[Y_i]}_{i=1}^n] = Var(\\frac1n \\sum_{i=1}^n Y_i) = \\frac1{n^2} Var(\\sum_{i=1}^n Y_i) = \\frac1{n^2}\\sum_{i=1}^n \\sigma^2  = \\frac1n \\sigma^2 $$\n",
    "\n",
    "\n",
    "Therefore this method reduces variance of the model"
   ]
  },
  {
   "cell_type": "markdown",
   "metadata": {},
   "source": [
    "## Part b\n",
    "\n",
    "### Subpart a\n",
    "\n",
    "Let $A$ be the number of elements contained in the final bag and $B$ be the number of elements of out of bag sample. Obviously, we have that $$ A = n - B $$\n",
    "\n",
    "Next we know that $B$ can be written as a sum of Indicators, where $I_i$ is the indicator of that item $i$ is in NOT in the bag.\n",
    "\n",
    "$$B = \\sum_{i=0}^{n} I_i $$\n",
    "$$ \\therefore E(B) = \\sum_{i=0}^{n} E(I_i) = \\sum_{i=0}^{n} P(i \\text{ is out of the bag}) = \\sum_{i=0}^{n} (\\frac{n-1}{n})^n $$\n",
    "\n",
    "Using the exponential approximation, we have that\n",
    "\n",
    "$$ \\lim_{n\\rightarrow \\infty} (1 -\\frac1n)^n \\sim \\frac1e$$\n",
    "$$ \\therefore E(B) =  \\sum_{i=0}^{n} (\\frac{n-1}{n})^n \\sim \\frac{n}{e}$$\n",
    "$$ \\therefore E(A) = n - E(B) \\sim n(1-\\frac1e) \\approx 0.623n $$"
   ]
  },
  {
   "cell_type": "markdown",
   "metadata": {},
   "source": [
    "### Subpart b "
   ]
  },
  {
   "cell_type": "markdown",
   "metadata": {},
   "source": [
    "## Part c\n",
    "\n",
    "$$Var[avg{[Z_i]}_{i=1}^n] = Var(\\frac1n \\sum_{i=1}^n Z_i) = \\frac1{n^2} Var(\\sum_{i=1}^n Z_i) $$\n",
    "\n",
    "$$ \\rightarrow Var(\\sum_{i=1}^n Z_i) = \\sum_{i=1}^n Var(Z_i) + \\sum_{i=1}^n \\sum_{j=i+1}^n 2Cov(Z_i, Z_j)  = n\\sigma^2 + 2\\binom{n}{2} \\rho$$\n",
    "\n",
    "$$ \\therefore Var[avg{[Z_i]}_{i=1}^n] =  \\frac{\\sigma^2}n + \\frac{n-1}{n} \\rho \\leq \\frac{\\sigma^2}n + \\frac{n-1}{n} \\sigma^2 = \\sigma^2$$ \n",
    "\n",
    "$$ \\therefore Var[avg{[Z_i]}_{i=1}^n] \\leq \\sigma^2 $$ and equality only holds when  $ \\forall_{i, j}  Cov(Z_i, Z_j) = 1 $ aka when $ \\rho = 1 $\n"
   ]
  },
  {
   "cell_type": "markdown",
   "metadata": {},
   "source": [
    "## Part d\n",
    "\n",
    "There is a possibility given certain datasets that 2 features need to be known simeltaneously for an accurate prediction to be made. In this case a stump will not be a good idea, and averaging may not fix this."
   ]
  },
  {
   "cell_type": "markdown",
   "metadata": {},
   "source": [
    "# Problem 3"
   ]
  },
  {
   "cell_type": "markdown",
   "metadata": {},
   "source": [
    "## Part 3.1, 3.2\n",
    "\n",
    "See the decision_tree_starter.py"
   ]
  },
  {
   "cell_type": "code",
   "execution_count": 3,
   "metadata": {
    "scrolled": false
   },
   "outputs": [
    {
     "name": "stdout",
     "output_type": "stream",
     "text": [
      "# You may want to install \"gprof2dot\"\n",
      "import io\n",
      "from collections import Counter\n",
      "\n",
      "import numpy as np\n",
      "import scipy.io\n",
      "import sklearn.model_selection\n",
      "import sklearn.tree\n",
      "from numpy import genfromtxt\n",
      "from scipy import stats\n",
      "from sklearn.utils import resample\n",
      "from sklearn.base import BaseEstimator, ClassifierMixin\n",
      "from tqdm import tqdm\n",
      "from tqdm import tqdm_notebook\n",
      "\n",
      "import pydot_ng as pydot\n",
      "import os\n",
      "\n",
      "os.environ[\"PATH\"] += os.pathsep + r'C:\\Program Files (x86)\\Graphviz2.38\\bin'\n",
      "\n",
      "eps = 1e-5  # a small number\n",
      "\n",
      "\n",
      "class DecisionTree:\n",
      "    def __init__(self, max_depth=3, feature_labels=None):\n",
      "        self.max_depth = max_depth\n",
      "        self.features = feature_labels\n",
      "        self.left, self.right = None, None  # for non-leaf nodes\n",
      "        self.split_idx, self.thresh = None, None  # for non-leaf nodes\n",
      "        self.data, self.pred = None, None  # for leaf nodes\n",
      "\n",
      "    def str_root(self):\n",
      "        if self.split_idx:\n",
      "            if self.features:\n",
      "                feat_name = str(self.features[self.split_idx])\n",
      "            else:\n",
      "                feat_name = str(self.split_idx)\n",
      "\n",
      "            return \"Pred \" + str(self.pred) + \". Splitting on \" + feat_name + \" with thresh \" + str(self.thresh)\n",
      "        else:\n",
      "            return \"Final Pred : \" + str(self.pred)\n",
      "\n",
      "    @staticmethod\n",
      "    def gini_impurity(labels):\n",
      "        # TODO implement gini_impurity function\n",
      "        unique, counts = np.unique(labels, return_counts=True)\n",
      "        counts = np.linalg.norm(counts)\n",
      "        counts = counts ** 2\n",
      "        return 1 - np.sum(counts)\n",
      "\n",
      "    @staticmethod\n",
      "    def purification(X, y, thresh):\n",
      "        G_i = DecisionTree.gini_impurity(y)\n",
      "        if len(X.shape) < 2:\n",
      "            shape_X = np.array([X]).T\n",
      "        else:\n",
      "            shape_X = X\n",
      "\n",
      "        X0, y0, X1, y1 = DecisionTree.split(shape_X, y, 0, thresh)\n",
      "        G_f = DecisionTree.gini_impurity(y0) * len(y0) + DecisionTree.gini_impurity(y1) * len(y1)\n",
      "        G_f /= len(y0) +len(y1)\n",
      "\n",
      "        return G_f - G_i\n",
      "\n",
      "    @staticmethod\n",
      "    def entropy(labels):\n",
      "        if len(labels) == 0:\n",
      "            return 0\n",
      "        unique, counts = np.unique(labels, return_counts=True)\n",
      "        if len(unique) == 1:\n",
      "            return 0\n",
      "        assert len(counts) == 2, 'Counts are... elems:' + str(unique) + \"   counts:\" + str(counts) + \"\\n labels :\" + str(labels)\n",
      "        return scipy.stats.entropy(counts, base=2)\n",
      "\n",
      "    @staticmethod\n",
      "    def information_gain(X, y, thresh, gini=False):\n",
      "        # TODO implement information gain function\n",
      "        if gini:\n",
      "            result = DecisionTree.purification(X, y, thresh)\n",
      "            # print(result)\n",
      "            return result\n",
      "\n",
      "        S_i = DecisionTree.entropy(y)\n",
      "\n",
      "        if len(X.shape) < 2:\n",
      "            shape_X = np.array([X]).T\n",
      "        else:\n",
      "            shape_X = X\n",
      "        X0, y0, X1, y1 = DecisionTree.split(shape_X, y, 0, thresh)\n",
      "\n",
      "        S_f = DecisionTree.entropy(y0) * len(y0) + DecisionTree.entropy(y1) * len(y1)\n",
      "        S_f /= len(y)\n",
      "\n",
      "        result = S_i - S_f\n",
      "        # print(result)\n",
      "        return result\n",
      "\n",
      "    @staticmethod\n",
      "    def split(X, y, idx, thresh):\n",
      "        X0, idx0, X1, idx1 = DecisionTree.split_test(X, idx=idx, thresh=thresh)\n",
      "        y0, y1 = y[idx0], y[idx1]\n",
      "        return X0, y0, X1, y1\n",
      "\n",
      "    @staticmethod\n",
      "    def split_test(X, idx, thresh):\n",
      "        idx0 = np.where(X[:, idx] < thresh)[0]\n",
      "        idx1 = np.where(X[:, idx] >= thresh)[0]\n",
      "        X0, X1 = X[idx0, :], X[idx1, :]\n",
      "        return X0, idx0, X1, idx1\n",
      "\n",
      "    def fit(self, X, y, num_feat=None, bootstrap=False):\n",
      "        if not num_feat:\n",
      "            num_feat = X.shape[1]\n",
      "        if self.max_depth > 0:\n",
      "            # compute entropy gain for all single-dimension splits,\n",
      "            # thresholding with a linear interpolation of 10 values\n",
      "            gains = []\n",
      "            # The following logic prevents thresholding on exactly the minimum\n",
      "            # or maximum values, which may not lead to any meaningful node\n",
      "            # splits.\n",
      "            valid_feats = np.random.choice(np.arange(X.shape[1]), size=num_feat, replace=False)\n",
      "\n",
      "            thresh = np.array([\n",
      "                np.linspace(np.min(X[:, i]) + eps, np.max(X[:, i]) - eps, num=10)\n",
      "                if (i in valid_feats) else np.zeros(10) for i in range(X.shape[1])\n",
      "            ])\n",
      "            for i in range(X.shape[1]):\n",
      "                gains.append([self.information_gain(X[:, i], y, t) for t in thresh[i, :]])\n",
      "\n",
      "            gains = np.nan_to_num(np.array(gains))\n",
      "            self.split_idx, thresh_idx = np.unravel_index(np.argmax(gains), gains.shape)\n",
      "            self.thresh = thresh[self.split_idx, thresh_idx]\n",
      "            X0, y0, X1, y1 = self.split(X, y, idx=self.split_idx, thresh=self.thresh)\n",
      "            if X0.size > 0 and X1.size > 0:\n",
      "                if bootstrap:\n",
      "                    X0, y0 = resample(X0, y0)\n",
      "                    X1, y1 = resample(X1, y1)\n",
      "                self.left = DecisionTree(\n",
      "                    max_depth=self.max_depth - 1, feature_labels=self.features)\n",
      "                self.left.fit(X0, y0)\n",
      "                self.right = DecisionTree(\n",
      "                    max_depth=self.max_depth - 1, feature_labels=self.features)\n",
      "                self.right.fit(X1, y1)\n",
      "            else:\n",
      "                self.max_depth = 0\n",
      "                self.data, self.labels = X, y\n",
      "                self.pred = stats.mode(y).mode[0]\n",
      "        else:\n",
      "            self.data, self.labels = X, y\n",
      "            self.pred = stats.mode(y).mode[0]\n",
      "        return self\n",
      "\n",
      "    def predict(self, X):\n",
      "        if self.max_depth == 0:\n",
      "            return self.pred * np.ones(X.shape[0])\n",
      "        else:\n",
      "            X0, idx0, X1, idx1 = self.split_test(X, idx=self.split_idx, thresh=self.thresh)\n",
      "            yhat = np.zeros(X.shape[0])\n",
      "            yhat[idx0] = self.left.predict(X0)\n",
      "            yhat[idx1] = self.right.predict(X1)\n",
      "            return yhat\n",
      "\n",
      "\n",
      "def print_tree(t, indent=0):\n",
      "    \"\"\"Print a representation of this tree in which each node is\n",
      "    indented by two spaces times its depth from the root.\n",
      "    \"\"\"\n",
      "    print('  ' * indent + t.str_root())\n",
      "    branches = []\n",
      "    if t.left != None:\n",
      "        print_tree(t.left, indent + 1)\n",
      "    if t.right != None:\n",
      "        print_tree(t.right, indent + 1)\n",
      "\n",
      "\n",
      "class BaggedTrees(BaseEstimator, ClassifierMixin):\n",
      "    def __init__(self, params=None, max_depth=10, features=None, n=20):\n",
      "        if params is None:\n",
      "            params = {}\n",
      "        self.params = params\n",
      "        self.n = n\n",
      "        self.decision_trees = [DecisionTree(max_depth, features) for i in range(self.n)]\n",
      "\n",
      "    def fit(self, X, y):\n",
      "        # TODO implement function\n",
      "        print(\"Training\")\n",
      "        for dt in tqdm(self.decision_trees):\n",
      "            Xr, yr = resample(X, y)\n",
      "            dt.fit(Xr, yr)\n",
      "        return\n",
      "\n",
      "    def predict(self, X, proba=False, notebook = True):\n",
      "        if notebook:\n",
      "            tqdm = tqdm_notebook\n",
      "        # TODO implement function\n",
      "        print(\"Predicting\")\n",
      "        result = np.mean([t.predict(X) for t in tqdm(self.decision_trees)], axis=0)\n",
      "        if proba:\n",
      "            return result\n",
      "        else:\n",
      "            return np.round(result)\n",
      "\n",
      "\n",
      "class RandomForest(BaggedTrees):\n",
      "    def __init__(self, params=None, max_depth=10, features=None, n=20, m=None):\n",
      "        BaggedTrees.__init__(self, params, max_depth, features, n)\n",
      "        self.m = m\n",
      "    \n",
      "    def fit(self, X, y, notebook = True):\n",
      "        if notebook:\n",
      "            tqdm = tqdm_notebook\n",
      "        if not self.m:\n",
      "            self.m = int(np.ceil(np.sqrt(X.shape[1])))\n",
      "        print(\"Training\")\n",
      "        for dt in tqdm(self.decision_trees):\n",
      "            dt.fit(X, y, num_feat=self.m, bootstrap=True)\n",
      "        return\n",
      "\n",
      "\n",
      "class BoostedRandomForest(RandomForest):\n",
      "    def fit(self, X, y):\n",
      "        self.w = np.ones(X.shape[0]) / X.shape[0]  # Weights on data\n",
      "        self.a = np.zeros(self.n)  # Weights on decision trees\n",
      "        # TODO implement function\n",
      "        return self\n",
      "\n",
      "    def predict(self, X):\n",
      "        # TODO implement function\n",
      "        pass\n",
      "\n",
      "\n",
      "def preprocess(data, fill_mode=True, min_freq=10, onehot_cols=[]):\n",
      "    # fill_mode = False\n",
      "\n",
      "    # Temporarily assign -1 to missing data\n",
      "    data[data == b''] = '-1'\n",
      "\n",
      "    # Hash the columns (used for handling strings)\n",
      "    onehot_encoding = []\n",
      "    onehot_features = []\n",
      "    for col in onehot_cols:\n",
      "        counter = Counter(data[:, col])\n",
      "        for term in counter.most_common():\n",
      "            if term[0] == b'-1':\n",
      "                continue\n",
      "            if term[-1] <= min_freq:\n",
      "                break\n",
      "            onehot_features.append(term[0])\n",
      "            onehot_encoding.append((data[:, col] == term[0]).astype(np.float))\n",
      "        data[:, col] = '0'\n",
      "    onehot_encoding = np.array(onehot_encoding).T\n",
      "    data = np.hstack([np.array(data, dtype=np.float), np.array(onehot_encoding)])\n",
      "\n",
      "    # Replace missing data with the mode value. We use the mode instead of\n",
      "    # the mean or median because this makes more sense for categorical\n",
      "    # features such as gender or cabin type, which are not ordered.\n",
      "    if fill_mode:\n",
      "        for i in range(data.shape[-1]):\n",
      "            mode = stats.mode(data[((data[:, i] < -1 - eps) +\n",
      "                                    (data[:, i] > -1 + eps))][:, i]).mode[0]\n",
      "            data[(data[:, i] > -1 - eps) * (data[:, i] < -1 + eps)][:, i] = mode\n",
      "\n",
      "    return data, onehot_features\n",
      "\n",
      "\n",
      "def evaluate(clf, X, y):\n",
      "    print(\"Cross validation\", sklearn.model_selection.cross_val_score(clf, X, y, cv=5))\n",
      "    if hasattr(clf, \"decision_trees\"):\n",
      "        counter = Counter([t.tree_.feature[0] for t in clf.decision_trees])\n",
      "        first_splits = [(features[term[0]], term[1]) for term in counter.most_common()]\n",
      "        print(\"First splits\", first_splits)\n",
      "\n",
      "if __name__ == '__main__':\n",
      "    dataset = \"titanic\"\n",
      "    params = {\n",
      "        \"max_depth\": 5,\n",
      "        # \"random_state\": 6,\n",
      "        \"min_samples_leaf\": 10,\n",
      "    }\n",
      "    N = 100\n",
      "    path_train = 'titanic_training.csv'\n",
      "    data = genfromtxt(path_train, delimiter=',', dtype=None)\n",
      "    path_test = 'titanic_testing_data.csv'\n",
      "    test_data = genfromtxt(path_test, delimiter=',', dtype=None)\n",
      "    y = data[1:, 0]  # label = survived\n",
      "    class_names = [\"Died\", \"Survived\"]\n",
      "\n",
      "    labeled_idx = np.where(y != b'')[0]\n",
      "    y = np.array(y[labeled_idx], dtype=np.int)\n",
      "    print(\"\\n\\nPart (b): preprocessing the titanic dataset\")\n",
      "    X, onehot_features = preprocess(data[1:, 1:], onehot_cols=[1, 5, 7, 8])\n",
      "    X = X[labeled_idx, :]\n",
      "    Z, _ = preprocess(test_data[1:, :], onehot_cols=[1, 5, 7, 8])\n",
      "    assert X.shape[1] == Z.shape[1]\n",
      "    features = list(data[0, 1:]) + onehot_features\n",
      "\n",
      "    print(\"Features:\", features)\n",
      "    print(\"Train/test size:\", X.shape, Z.shape)\n",
      "\n",
      "    print(\"\\n\\nPart 0: constant classifier\")\n",
      "    print(\"Accuracy\", 1 - np.sum(y) / y.size)\n",
      "\n",
      "    # Basic decision tree\n",
      "    print(\"\\n\\nPart (a-b): simplified decision tree\")\n",
      "    dt = DecisionTree(max_depth=10, feature_labels=features)\n",
      "    dt.fit(X, y)\n",
      "    # print_tree(dt)\n",
      "    print(sklearn.metrics.accuracy_score(y, dt.predict(X)))\n",
      "    print(\"Predictions\", dt.predict(Z)[:100])\n",
      "\n",
      "    print(\"\\n\\nPart (c): sklearn's decision tree\")\n",
      "    clf = sklearn.tree.DecisionTreeClassifier(random_state=0, **params)\n",
      "    clf.fit(X, y)\n",
      "\n",
      "    print(sklearn.metrics.accuracy_score(y, clf.predict(X)))\n",
      "    print(\"Predictions\", clf.predict(Z)[:100])\n",
      "\n",
      "    evaluate(clf, X, y)\n",
      "    out = io.StringIO()\n",
      "    sklearn.tree.export_graphviz(\n",
      "        clf, out_file=out, feature_names=features, class_names=class_names)\n",
      "    graph = pydot.graph_from_dot_data(out.getvalue())\n",
      "    pydot.graph_from_dot_data(out.getvalue()).write_pdf(f'''{dataset}-tree.pdf''')\n",
      "\n"
     ]
    }
   ],
   "source": [
    "f = open(\"decision_tree_starter.py\", \"r\")\n",
    "lines = f.read()\n",
    "print(lines)"
   ]
  },
  {
   "cell_type": "markdown",
   "metadata": {},
   "source": [
    "## Part 3.3\n",
    "\n",
    "1. Used one hot encoding of the categories to make them quantitative\n",
    "2. Either max_depth is reached, we are at a pure leaf, or the best split provides no additional entropy gain. \n",
    "3. Created a bagged_trees object that implements bagged trees over the dataset it is passed in. Then i created a bunch of bagged tree classifiers for each subset of features\n",
    "4. I made sure everything was done in numpy in order to spead up training\n",
    "5. No, I tried to parallelize the fitting and predicting of each tree in order to increase model training and prediction spead. But failed to do so as ray is extremely hard to work with on a windows PC."
   ]
  },
  {
   "cell_type": "markdown",
   "metadata": {},
   "source": [
    "## Part 3.4"
   ]
  },
  {
   "cell_type": "code",
   "execution_count": 4,
   "metadata": {
    "scrolled": false
   },
   "outputs": [
    {
     "name": "stdout",
     "output_type": "stream",
     "text": [
      "\n",
      "\n",
      "Part (b): preprocessing the titanic dataset\n",
      "Features: [b'pclass', b'sex', b'age', b'sibsp', b'parch', b'ticket', b'fare', b'cabin', b'embarked', b'male', b'female', b'S', b'C', b'Q']\n",
      "Train/test size: (999, 14) (310, 14)\n",
      "\n",
      "\n",
      "Part 0: constant classifier\n",
      "Accuracy 0.6136136136136137\n",
      "\n",
      "\n",
      "Part (a-b): simplified decision tree\n"
     ]
    },
    {
     "name": "stderr",
     "output_type": "stream",
     "text": [
      "C:\\ProgramData\\Anaconda3\\lib\\site-packages\\ipykernel_launcher.py:10: VisibleDeprecationWarning: Reading unicode strings without specifying the encoding argument is deprecated. Set the encoding, use None for the system default.\n",
      "  # Remove the CWD from sys.path while we load stuff.\n",
      "C:\\ProgramData\\Anaconda3\\lib\\site-packages\\ipykernel_launcher.py:12: VisibleDeprecationWarning: Reading unicode strings without specifying the encoding argument is deprecated. Set the encoding, use None for the system default.\n",
      "  if sys.path[0] == '':\n"
     ]
    },
    {
     "name": "stdout",
     "output_type": "stream",
     "text": [
      "0.8848848848848849\n",
      "Predictions [1. 1. 0. 0. 0. 1. 0. 0. 0. 1. 1. 1. 1. 0. 1. 1. 1. 0. 1. 0. 0. 0. 0. 1.\n",
      " 0. 1. 0. 1. 0. 0. 1. 0. 0. 0. 0. 0. 0. 0. 0. 0. 1. 1. 0. 0. 1. 1. 0. 0.\n",
      " 0. 1. 1. 0. 0. 0. 0. 1. 0. 0. 0. 0. 1. 1. 0. 0. 1. 1. 0. 1. 1. 0. 1. 0.\n",
      " 1. 0. 0. 0. 0. 0. 0. 1. 0. 0. 0. 0. 0. 0. 0. 0. 1. 0. 1. 0. 0. 1. 1. 0.\n",
      " 1. 0. 0. 0.]\n",
      "\n",
      "\n",
      "Part (c): sklearn's decision tree\n",
      "0.8228228228228228\n",
      "Predictions [1 1 0 0 0 1 0 0 0 1 1 1 1 0 1 1 1 0 0 0 0 0 1 1 0 1 1 1 0 0 0 0 0 0 0 0 0\n",
      " 0 0 0 0 1 0 0 1 0 0 0 1 1 1 0 0 0 0 1 0 0 0 0 1 1 0 0 1 1 0 1 1 0 1 0 1 0\n",
      " 0 0 0 0 0 1 0 0 0 0 0 0 0 0 1 0 1 0 0 1 0 0 1 0 0 0]\n",
      "Cross validation [0.775      0.775      0.77       0.8        0.75376884]\n"
     ]
    },
    {
     "data": {
      "text/plain": [
       "True"
      ]
     },
     "execution_count": 4,
     "metadata": {},
     "output_type": "execute_result"
    }
   ],
   "source": [
    "# Load titanic data\n",
    "dataset = \"titanic\"\n",
    "params = {\n",
    "    \"max_depth\": 5,\n",
    "    # \"random_state\": 6,\n",
    "    \"min_samples_leaf\": 10,\n",
    "}\n",
    "N = 100\n",
    "path_train = 'titanic_training.csv'\n",
    "data = genfromtxt(path_train, delimiter=',', dtype=None)\n",
    "path_test = 'titanic_testing_data.csv'\n",
    "test_data = genfromtxt(path_test, delimiter=',', dtype=None)\n",
    "y = data[1:, 0]  # label = survived\n",
    "class_names = [\"Died\", \"Survived\"]\n",
    "\n",
    "labeled_idx = np.where(y != b'')[0]\n",
    "y = np.array(y[labeled_idx], dtype=np.int)\n",
    "print(\"\\n\\nPart (b): preprocessing the titanic dataset\")\n",
    "X, onehot_features = preprocess(data[1:, 1:], onehot_cols=[1, 5, 7, 8])\n",
    "X = X[labeled_idx, :]\n",
    "Z, _ = preprocess(test_data[1:, :], onehot_cols=[1, 5, 7, 8])\n",
    "assert X.shape[1] == Z.shape[1]\n",
    "features = list(data[0, 1:]) + onehot_features\n",
    "\n",
    "print(\"Features:\", features)\n",
    "print(\"Train/test size:\", X.shape, Z.shape)\n",
    "\n",
    "print(\"\\n\\nPart 0: constant classifier\")\n",
    "print(\"Accuracy\", 1 - np.sum(y) / y.size)\n",
    "\n",
    "# Basic decision tree\n",
    "print(\"\\n\\nPart (a-b): simplified decision tree\")\n",
    "dt = DecisionTree(max_depth=10, feature_labels=features)\n",
    "dt.fit(X, y)\n",
    "#print_tree(dt)\n",
    "print(sklearn.metrics.accuracy_score(y, dt.predict(X)))\n",
    "print(\"Predictions\", dt.predict(Z)[:100])\n",
    "\n",
    "print(\"\\n\\nPart (c): sklearn's decision tree\")\n",
    "clf = sklearn.tree.DecisionTreeClassifier(random_state=0, **params)\n",
    "clf.fit(X, y)\n",
    "\n",
    "print(sklearn.metrics.accuracy_score(y, clf.predict(X)))\n",
    "print(\"Predictions\", clf.predict(Z)[:100])\n",
    "\n",
    "evaluate(clf, X, y)\n",
    "out = io.StringIO()\n",
    "sklearn.tree.export_graphviz(\n",
    "    clf, out_file=out, feature_names=features, class_names=class_names)\n",
    "graph = pydot.graph_from_dot_data(out.getvalue())\n",
    "pydot.graph_from_dot_data(out.getvalue()).write_pdf(f'''{dataset}-tree.pdf''')"
   ]
  },
  {
   "cell_type": "code",
   "execution_count": 5,
   "metadata": {},
   "outputs": [
    {
     "name": "stdout",
     "output_type": "stream",
     "text": [
      "Features: ['pain', 'private', 'bank', 'money', 'drug', 'spam', 'prescription', 'creative', 'height', 'featured', 'differ', 'width', 'other', 'energy', 'business', 'message', 'volumes', 'revision', 'path', 'meter', 'memo', 'planning', 'pleased', 'record', 'out', 'semicolon', 'dollar', 'sharp', 'exclamation', 'parenthesis', 'square_bracket', 'ampersand']\n",
      "Train/test size: (5172, 32) (5857, 32)\n",
      "\n",
      "\n",
      "Part 0: constant classifier\n",
      "Accuracy 0.7099767981438515\n",
      "\n",
      "\n",
      "Part (a-b): simplified decision tree\n",
      "0.8344934261407579\n",
      "Predictions [0. 1. 0. 0. 0. 1. 0. 0. 0. 0. 0. 0. 0. 0. 0. 0. 0. 0. 1. 1. 0. 0. 0. 0.\n",
      " 0. 0. 0. 0. 0. 0. 0. 0. 0. 0. 1. 1. 0. 0. 0. 0. 0. 1. 0. 0. 1. 0. 0. 1.\n",
      " 1. 0. 0. 1. 0. 0. 1. 0. 0. 0. 1. 0. 1. 0. 0. 1. 0. 0. 0. 0. 1. 0. 0. 1.\n",
      " 0. 0. 1. 0. 0. 0. 0. 1. 0. 0. 1. 0. 0. 0. 0. 0. 0. 1. 1. 0. 0. 1. 0. 0.\n",
      " 1. 1. 0. 0.]\n",
      "\n",
      "\n",
      "Part (c): sklearn's decision tree\n",
      "0.809938128383604\n",
      "Predictions [0 1 0 0 0 1 0 0 0 0 0 0 0 0 0 0 0 0 1 1 0 0 0 0 0 0 1 0 0 0 0 1 1 0 0 1 0\n",
      " 0 0 0 0 1 0 0 1 0 0 1 1 0 0 1 0 0 0 0 0 0 1 0 1 0 0 1 0 1 0 0 1 0 0 1 0 0\n",
      " 1 0 0 0 0 0 0 0 1 0 0 0 0 0 0 1 1 0 0 1 0 0 1 1 0 1]\n",
      "Cross validation [0.80676329 0.81062802 0.81624758 0.77756286 0.78626692]\n"
     ]
    },
    {
     "data": {
      "text/plain": [
       "True"
      ]
     },
     "execution_count": 5,
     "metadata": {},
     "output_type": "execute_result"
    }
   ],
   "source": [
    "dataset = \"spam\"\n",
    "params = {\n",
    "    \"max_depth\": 5,\n",
    "    # \"random_state\": 6,\n",
    "    \"min_samples_leaf\": 10,\n",
    "}\n",
    "N = 100\n",
    "features = [\n",
    "    \"pain\", \"private\", \"bank\", \"money\", \"drug\", \"spam\", \"prescription\", \"creative\",\n",
    "    \"height\", \"featured\", \"differ\", \"width\", \"other\", \"energy\", \"business\", \"message\",\n",
    "    \"volumes\", \"revision\", \"path\", \"meter\", \"memo\", \"planning\", \"pleased\", \"record\", \"out\",\n",
    "    \"semicolon\", \"dollar\", \"sharp\", \"exclamation\", \"parenthesis\", \"square_bracket\",\n",
    "    \"ampersand\"\n",
    "]\n",
    "assert len(features) == 32\n",
    "\n",
    "# Load spam data\n",
    "path_train = 'spam_data.mat'\n",
    "data = scipy.io.loadmat(path_train)\n",
    "X = data['training_data']\n",
    "y = np.squeeze(data['training_labels'])\n",
    "Z = data['test_data']\n",
    "class_names = [\"Ham\", \"Spam\"]\n",
    "print(\"Features:\", features)\n",
    "print(\"Train/test size:\", X.shape, Z.shape)\n",
    "\n",
    "print(\"\\n\\nPart 0: constant classifier\")\n",
    "print(\"Accuracy\", 1 - np.sum(y) / y.size)\n",
    "\n",
    "# Basic decision tree\n",
    "print(\"\\n\\nPart (a-b): simplified decision tree\")\n",
    "dt = DecisionTree(max_depth=9, feature_labels=features)\n",
    "dt.fit(X, y)\n",
    "#print_tree(dt)\n",
    "print(sklearn.metrics.accuracy_score(y, dt.predict(X)))\n",
    "print(\"Predictions\", dt.predict(Z)[:100])\n",
    "\n",
    "print(\"\\n\\nPart (c): sklearn's decision tree\")\n",
    "clf = sklearn.tree.DecisionTreeClassifier(random_state=0, **params)\n",
    "clf.fit(X, y)\n",
    "\n",
    "print(sklearn.metrics.accuracy_score(y, clf.predict(X)))\n",
    "print(\"Predictions\", clf.predict(Z)[:100])\n",
    "\n",
    "evaluate(clf, X, y)\n",
    "out = io.StringIO()\n",
    "sklearn.tree.export_graphviz(\n",
    "    clf, out_file=out, feature_names=features, class_names=class_names)\n",
    "graph = pydot.graph_from_dot_data(out.getvalue())\n",
    "pydot.graph_from_dot_data(out.getvalue()).write_pdf(f'''{dataset}-tree.pdf''')"
   ]
  },
  {
   "cell_type": "code",
   "execution_count": 6,
   "metadata": {},
   "outputs": [
    {
     "name": "stdout",
     "output_type": "stream",
     "text": [
      "\n",
      "\n",
      "Part (b): preprocessing the titanic dataset\n",
      "Features: [b'pclass', b'sex', b'age', b'sibsp', b'parch', b'ticket', b'fare', b'cabin', b'embarked', b'male', b'female', b'S', b'C', b'Q']\n",
      "Train/test size: (999, 14) (310, 14)\n",
      "\n",
      "\n",
      "Part 0: constant classifier\n",
      "Accuracy 0.6136136136136137\n",
      "\n",
      " Random Forest\n",
      "Training\n"
     ]
    },
    {
     "name": "stderr",
     "output_type": "stream",
     "text": [
      "C:\\ProgramData\\Anaconda3\\lib\\site-packages\\ipykernel_launcher.py:10: VisibleDeprecationWarning: Reading unicode strings without specifying the encoding argument is deprecated. Set the encoding, use None for the system default.\n",
      "  # Remove the CWD from sys.path while we load stuff.\n",
      "C:\\ProgramData\\Anaconda3\\lib\\site-packages\\ipykernel_launcher.py:12: VisibleDeprecationWarning: Reading unicode strings without specifying the encoding argument is deprecated. Set the encoding, use None for the system default.\n",
      "  if sys.path[0] == '':\n"
     ]
    },
    {
     "data": {
      "application/vnd.jupyter.widget-view+json": {
       "model_id": "4a0bed59dd99457394d5c02352d5142a",
       "version_major": 2,
       "version_minor": 0
      },
      "text/plain": [
       "HBox(children=(FloatProgress(value=0.0, max=20.0), HTML(value='')))"
      ]
     },
     "metadata": {},
     "output_type": "display_data"
    },
    {
     "name": "stdout",
     "output_type": "stream",
     "text": [
      "\n",
      "Predicting\n"
     ]
    },
    {
     "data": {
      "application/vnd.jupyter.widget-view+json": {
       "model_id": "cc2eae7bb7ae46a4809bba8d80d2a4c3",
       "version_major": 2,
       "version_minor": 0
      },
      "text/plain": [
       "HBox(children=(FloatProgress(value=0.0, max=20.0), HTML(value='')))"
      ]
     },
     "metadata": {},
     "output_type": "display_data"
    },
    {
     "name": "stdout",
     "output_type": "stream",
     "text": [
      "\n",
      "0.8988988988988988\n"
     ]
    }
   ],
   "source": [
    "# Load titanic data\n",
    "dataset = \"titanic\"\n",
    "params = {\n",
    "    \"max_depth\": 5,\n",
    "    # \"random_state\": 6,\n",
    "    \"min_samples_leaf\": 10,\n",
    "}\n",
    "N = 100\n",
    "path_train = 'titanic_training.csv'\n",
    "data = genfromtxt(path_train, delimiter=',', dtype=None)\n",
    "path_test = 'titanic_testing_data.csv'\n",
    "test_data = genfromtxt(path_test, delimiter=',', dtype=None)\n",
    "y = data[1:, 0]  # label = survived\n",
    "class_names = [\"Died\", \"Survived\"]\n",
    "\n",
    "labeled_idx = np.where(y != b'')[0]\n",
    "y = np.array(y[labeled_idx], dtype=np.int)\n",
    "print(\"\\n\\nPart (b): preprocessing the titanic dataset\")\n",
    "X, onehot_features = preprocess(data[1:, 1:], onehot_cols=[1, 5, 7, 8])\n",
    "X = X[labeled_idx, :]\n",
    "Z, _ = preprocess(test_data[1:, :], onehot_cols=[1, 5, 7, 8])\n",
    "assert X.shape[1] == Z.shape[1]\n",
    "features = list(data[0, 1:]) + onehot_features\n",
    "\n",
    "print(\"Features:\", features)\n",
    "print(\"Train/test size:\", X.shape, Z.shape)\n",
    "\n",
    "print(\"\\n\\nPart 0: constant classifier\")\n",
    "print(\"Accuracy\", 1 - np.sum(y) / y.size)\n",
    "\n",
    "print(\"\\n Random Forest\")\n",
    "rf = RandomForest(features=features, max_depth=10, m=4)\n",
    "rf.fit(X, y)\n",
    "print(sklearn.metrics.accuracy_score(y, rf.predict(X)))"
   ]
  },
  {
   "cell_type": "code",
   "execution_count": 7,
   "metadata": {},
   "outputs": [
    {
     "name": "stdout",
     "output_type": "stream",
     "text": [
      "Features: ['pain', 'private', 'bank', 'money', 'drug', 'spam', 'prescription', 'creative', 'height', 'featured', 'differ', 'width', 'other', 'energy', 'business', 'message', 'volumes', 'revision', 'path', 'meter', 'memo', 'planning', 'pleased', 'record', 'out', 'semicolon', 'dollar', 'sharp', 'exclamation', 'parenthesis', 'square_bracket', 'ampersand']\n",
      "Train/test size: (5172, 32) (5857, 32)\n",
      "\n",
      "\n",
      "Part 0: constant classifier\n",
      "Accuracy 0.7099767981438515\n",
      "\n",
      " Random Forest\n",
      "Training\n"
     ]
    },
    {
     "data": {
      "application/vnd.jupyter.widget-view+json": {
       "model_id": "315183bdc6b84bd0ad271ec7fee9b969",
       "version_major": 2,
       "version_minor": 0
      },
      "text/plain": [
       "HBox(children=(FloatProgress(value=0.0, max=20.0), HTML(value='')))"
      ]
     },
     "metadata": {},
     "output_type": "display_data"
    },
    {
     "name": "stdout",
     "output_type": "stream",
     "text": [
      "\n",
      "Predicting\n"
     ]
    },
    {
     "data": {
      "application/vnd.jupyter.widget-view+json": {
       "model_id": "2d6e28e2a15c4e73b22be7a33ff5efca",
       "version_major": 2,
       "version_minor": 0
      },
      "text/plain": [
       "HBox(children=(FloatProgress(value=0.0, max=20.0), HTML(value='')))"
      ]
     },
     "metadata": {},
     "output_type": "display_data"
    },
    {
     "name": "stdout",
     "output_type": "stream",
     "text": [
      "\n",
      "0.8381670533642691\n"
     ]
    }
   ],
   "source": [
    "dataset = \"spam\"\n",
    "params = {\n",
    "    \"max_depth\": 5,\n",
    "    # \"random_state\": 6,\n",
    "    \"min_samples_leaf\": 10,\n",
    "}\n",
    "N = 100\n",
    "features = [\n",
    "    \"pain\", \"private\", \"bank\", \"money\", \"drug\", \"spam\", \"prescription\", \"creative\",\n",
    "    \"height\", \"featured\", \"differ\", \"width\", \"other\", \"energy\", \"business\", \"message\",\n",
    "    \"volumes\", \"revision\", \"path\", \"meter\", \"memo\", \"planning\", \"pleased\", \"record\", \"out\",\n",
    "    \"semicolon\", \"dollar\", \"sharp\", \"exclamation\", \"parenthesis\", \"square_bracket\",\n",
    "    \"ampersand\"\n",
    "]\n",
    "assert len(features) == 32\n",
    "\n",
    "# Load spam data\n",
    "path_train = 'spam_data.mat'\n",
    "data = scipy.io.loadmat(path_train)\n",
    "X = data['training_data']\n",
    "y = np.squeeze(data['training_labels'])\n",
    "Z = data['test_data']\n",
    "class_names = [\"Ham\", \"Spam\"]\n",
    "print(\"Features:\", features)\n",
    "print(\"Train/test size:\", X.shape, Z.shape)\n",
    "\n",
    "print(\"\\n\\nPart 0: constant classifier\")\n",
    "print(\"Accuracy\", 1 - np.sum(y) / y.size)\n",
    "\n",
    "print(\"\\n Random Forest\")\n",
    "rf = RandomForest(features=features, max_depth=10, m=6)\n",
    "rf.fit(X, y)\n",
    "print(sklearn.metrics.accuracy_score(y, rf.predict(X)))"
   ]
  },
  {
   "cell_type": "markdown",
   "metadata": {},
   "source": [
    "#### Using validation for Kaggle"
   ]
  },
  {
   "cell_type": "code",
   "execution_count": 8,
   "metadata": {},
   "outputs": [
    {
     "name": "stdout",
     "output_type": "stream",
     "text": [
      "\n",
      "\n",
      "Part (b): preprocessing the titanic dataset\n",
      "Features: [b'pclass', b'sex', b'age', b'sibsp', b'parch', b'ticket', b'fare', b'cabin', b'embarked', b'male', b'female', b'S', b'C', b'Q']\n",
      "Train/test size: (999, 14) (310, 14)\n",
      "\n",
      "\n",
      "Part 0: constant classifier\n",
      "Accuracy 0.6136136136136137\n"
     ]
    },
    {
     "name": "stderr",
     "output_type": "stream",
     "text": [
      "C:\\ProgramData\\Anaconda3\\lib\\site-packages\\ipykernel_launcher.py:10: VisibleDeprecationWarning: Reading unicode strings without specifying the encoding argument is deprecated. Set the encoding, use None for the system default.\n",
      "  # Remove the CWD from sys.path while we load stuff.\n",
      "C:\\ProgramData\\Anaconda3\\lib\\site-packages\\ipykernel_launcher.py:12: VisibleDeprecationWarning: Reading unicode strings without specifying the encoding argument is deprecated. Set the encoding, use None for the system default.\n",
      "  if sys.path[0] == '':\n"
     ]
    }
   ],
   "source": [
    "# Load titanic data\n",
    "dataset = \"titanic\"\n",
    "params = {\n",
    "    \"max_depth\": 5,\n",
    "    # \"random_state\": 6,\n",
    "    \"min_samples_leaf\": 10,\n",
    "}\n",
    "N = 100\n",
    "path_train = 'titanic_training.csv'\n",
    "data = genfromtxt(path_train, delimiter=',', dtype=None)\n",
    "path_test = 'titanic_testing_data.csv'\n",
    "test_data = genfromtxt(path_test, delimiter=',', dtype=None)\n",
    "y = data[1:, 0]  # label = survived\n",
    "class_names = [\"Died\", \"Survived\"]\n",
    "\n",
    "labeled_idx = np.where(y != b'')[0]\n",
    "y = np.array(y[labeled_idx], dtype=np.int)\n",
    "print(\"\\n\\nPart (b): preprocessing the titanic dataset\")\n",
    "X, onehot_features = preprocess(data[1:, 1:], onehot_cols=[1, 5, 7, 8])\n",
    "X = X[labeled_idx, :]\n",
    "Z, _ = preprocess(test_data[1:, :], onehot_cols=[1, 5, 7, 8])\n",
    "assert X.shape[1] == Z.shape[1]\n",
    "features = list(data[0, 1:]) + onehot_features\n",
    "\n",
    "print(\"Features:\", features)\n",
    "print(\"Train/test size:\", X.shape, Z.shape)\n",
    "\n",
    "print(\"\\n\\nPart 0: constant classifier\")\n",
    "print(\"Accuracy\", 1 - np.sum(y) / y.size)"
   ]
  },
  {
   "cell_type": "code",
   "execution_count": 9,
   "metadata": {},
   "outputs": [
    {
     "data": {
      "text/plain": [
       "array([[ 3.,  0., -1., ...,  1.,  0.,  0.],\n",
       "       [ 1.,  0., 22., ...,  0.,  1.,  0.],\n",
       "       [ 2.,  0., 23., ...,  0.,  1.,  0.],\n",
       "       ...,\n",
       "       [ 2.,  0., 63., ...,  1.,  0.,  0.],\n",
       "       [ 3.,  0., 41., ...,  1.,  0.,  0.],\n",
       "       [ 2.,  0., 34., ...,  1.,  0.,  0.]])"
      ]
     },
     "execution_count": 9,
     "metadata": {},
     "output_type": "execute_result"
    }
   ],
   "source": [
    "X"
   ]
  },
  {
   "cell_type": "code",
   "execution_count": 10,
   "metadata": {},
   "outputs": [
    {
     "data": {
      "text/plain": [
       "array([0, 0, 0, 0, 0, 0, 1, 0, 1, 1, 1, 1, 1, 1, 1, 0, 0, 0, 0, 0, 0, 0,\n",
       "       1, 1, 0, 1, 1, 0, 1, 1, 0, 0, 0, 0, 1, 1, 0, 1, 0, 0, 0, 1, 0, 0,\n",
       "       0, 1, 0, 1, 1, 0, 1, 0, 1, 1, 0, 1, 1, 1, 0, 0, 0, 1, 1, 0, 1, 0,\n",
       "       1, 0, 1, 0, 1, 0, 0, 0, 1, 0, 0, 1, 1, 0, 0, 0, 0, 0, 1, 0, 1, 0,\n",
       "       1, 1, 0, 1, 0, 0, 1, 0, 0, 1, 0, 0, 1, 0, 1, 0, 0, 0, 1, 0, 1, 1,\n",
       "       0, 0, 1, 0, 0, 0, 1, 1, 0, 1, 1, 1, 1, 0, 0, 0, 0, 0, 0, 0, 1, 0,\n",
       "       0, 1, 1, 0, 0, 1, 1, 1, 0, 1, 1, 0, 0, 0, 0, 0, 0, 0, 0, 0, 1, 0,\n",
       "       1, 0, 0, 0, 0, 0, 0, 1, 1, 1, 0, 0, 0, 0, 1, 0, 1, 0, 0, 0, 0, 0,\n",
       "       1, 0, 0, 0, 1, 1, 0, 1, 1, 1, 0, 1, 0, 1, 0, 1, 1, 0, 0, 1, 0, 0,\n",
       "       1, 0, 0, 1, 0, 0, 0, 1, 0, 0, 0, 0, 1, 0, 1, 0, 0, 0, 0, 1, 0, 1,\n",
       "       0, 1, 1, 0, 0, 0, 1, 0, 1, 0, 1, 0, 1, 1, 1, 0, 0, 1, 0, 0, 0, 1,\n",
       "       1, 1, 0, 0, 1, 1, 1, 0, 1, 0, 1, 1, 1, 1, 0, 1, 1, 0, 0, 0, 1, 0,\n",
       "       0, 1, 1, 0, 0, 0, 1, 0, 0, 0, 0, 0, 0, 0, 0, 0, 1, 0, 0, 1, 0, 1,\n",
       "       0, 0, 1, 0, 0, 1, 1, 1, 0, 0, 0, 0, 0, 0, 0, 0, 0, 1, 0, 1, 1, 0,\n",
       "       1, 1, 0, 1, 0, 0, 0, 0, 0, 0, 1, 1, 0, 1, 0, 0, 0, 0, 0, 1, 1, 0,\n",
       "       1, 0, 0, 1, 1, 1, 1, 0, 0, 0, 1, 0, 0, 1, 0, 1, 0, 1, 0, 1, 0, 0,\n",
       "       0, 0, 1, 1, 1, 0, 0, 0, 0, 0, 0, 0, 0, 1, 0, 1, 1, 0, 1, 0, 0, 0,\n",
       "       0, 0, 1, 0, 1, 0, 0, 1, 0, 0, 1, 0, 1, 1, 0, 1, 1, 1, 0, 0, 0, 1,\n",
       "       1, 0, 0, 0, 0, 1, 1, 1, 0, 1, 0, 0, 0, 0, 0, 0, 0, 1, 0, 1, 0, 0,\n",
       "       1, 0, 1, 0, 0, 0, 0, 0, 1, 0, 0, 1, 1, 0, 0, 0, 0, 0, 0, 1, 0, 0,\n",
       "       1, 0, 0, 0, 1, 1, 1, 0, 0, 1, 0, 0, 1, 0, 0, 0, 0, 1, 1, 0, 1, 1,\n",
       "       1, 0, 0, 1, 1, 1, 1, 1, 0, 0, 1, 0, 0, 1, 1, 0, 0, 0, 0, 1, 0, 1,\n",
       "       0, 0, 0, 0, 0, 1, 0, 1, 0, 0, 0, 0, 0, 1, 0, 1, 1, 0, 0, 1, 0, 0,\n",
       "       0, 1, 1, 0, 0, 0, 0, 1, 0, 0, 0, 0, 1, 0, 1, 0, 0, 1, 0, 0, 0, 0,\n",
       "       1, 0, 0, 0, 0, 0, 0, 0, 0, 1, 0, 0, 0, 1, 1, 0, 0, 0, 0, 0, 0, 0,\n",
       "       0, 1, 0, 1, 0, 0, 0, 0, 1, 0, 1, 0, 0, 0, 1, 1, 1, 1, 0, 0, 0, 1,\n",
       "       0, 0, 0, 0, 1, 0, 1, 1, 0, 0, 0, 0, 0, 1, 0, 0, 0, 1, 0, 0, 0, 0,\n",
       "       1, 0, 0, 1, 1, 0, 1, 1, 0, 0, 1, 0, 1, 0, 0, 0, 1, 0, 1, 0, 0, 0,\n",
       "       0, 1, 1, 1, 0, 0, 1, 1, 0, 0, 0, 1, 0, 0, 1, 0, 0, 0, 1, 0, 0, 0,\n",
       "       1, 0, 1, 1, 1, 0, 1, 0, 1, 0, 1, 0, 0, 1, 1, 1, 0, 1, 0, 0, 1, 1,\n",
       "       0, 0, 0, 0, 1, 0, 0, 0, 1, 0, 1, 1, 0, 1, 1, 1, 1, 1, 1, 0, 1, 0,\n",
       "       0, 1, 0, 1, 0, 0, 1, 1, 0, 0, 0, 0, 1, 0, 1, 0, 1, 0, 1, 1, 0, 0,\n",
       "       1, 0, 0, 1, 0, 1, 0, 0, 0, 0, 1, 0, 0, 0, 0, 1, 0, 1, 1, 1, 1, 1,\n",
       "       1, 0, 1, 1, 1, 0, 0, 0, 0, 0, 0, 0, 0, 0, 0, 1, 1, 1, 0, 0, 0, 1,\n",
       "       0, 1, 1, 0, 1, 0, 1, 0, 1, 0, 1, 0, 1, 1, 0, 0, 1, 0, 0, 0, 1, 0,\n",
       "       0, 0, 0, 1, 0, 0, 1, 0, 1, 0, 0, 0, 1, 0, 0, 0, 1, 0, 0, 0, 1, 1,\n",
       "       1, 0, 1, 0, 0, 1, 1, 0, 0, 0, 1, 0, 0, 0, 0, 0, 0, 1, 0, 1, 0, 0,\n",
       "       0, 0, 0, 1, 0, 0, 0, 1, 0, 0, 0, 0, 0, 1, 0, 1, 1, 1, 0, 1, 0, 1,\n",
       "       0, 0, 1, 0, 0, 1, 0, 1, 0, 1, 1, 1, 1, 1, 0, 1, 0, 1, 0, 0, 1, 0,\n",
       "       1, 1, 1, 1, 1, 0, 1, 0, 0, 0, 0, 0, 1, 0, 0, 0, 0, 0, 0, 0, 1, 1,\n",
       "       0, 0, 0, 1, 0, 0, 1, 1, 0, 1, 0, 1, 0, 0, 1, 0, 1, 0, 0, 1, 1, 0,\n",
       "       0, 0, 1, 0, 0, 0, 0, 1, 1, 0, 0, 1, 0, 0, 0, 0, 1, 1, 1, 0, 0, 0,\n",
       "       0, 0, 1, 0, 0, 0, 0, 1, 0, 0, 0, 0, 0, 0, 1, 1, 0, 0, 0, 0, 0, 0,\n",
       "       0, 1, 0, 0, 1, 0, 0, 1, 1, 1, 0, 1, 0, 0, 1, 1, 0, 0, 0, 0, 1, 0,\n",
       "       0, 1, 1, 1, 0, 1, 1, 0, 0, 0, 0, 0, 0, 0, 1, 1, 0, 0, 1, 1, 1, 0,\n",
       "       0, 1, 1, 1, 0, 1, 0, 0, 0])"
      ]
     },
     "execution_count": 10,
     "metadata": {},
     "output_type": "execute_result"
    }
   ],
   "source": [
    "y"
   ]
  },
  {
   "cell_type": "code",
   "execution_count": 11,
   "metadata": {},
   "outputs": [],
   "source": [
    "X_train, X_val, y_train, y_val = train_test_split(X, y, test_size = 0.2)"
   ]
  },
  {
   "cell_type": "code",
   "execution_count": 12,
   "metadata": {},
   "outputs": [
    {
     "name": "stderr",
     "output_type": "stream",
     "text": [
      "C:\\ProgramData\\Anaconda3\\lib\\site-packages\\ipykernel_launcher.py:3: TqdmDeprecationWarning: This function will be removed in tqdm==5.0.0\n",
      "Please use `tqdm.notebook.tqdm` instead of `tqdm.tqdm_notebook`\n",
      "  This is separate from the ipykernel package so we can avoid doing imports until\n"
     ]
    },
    {
     "data": {
      "application/vnd.jupyter.widget-view+json": {
       "model_id": "c3fc4e02836f44fa9ff4cffb27b64b8c",
       "version_major": 2,
       "version_minor": 0
      },
      "text/plain": [
       "HBox(children=(FloatProgress(value=0.0, max=15.0), HTML(value='')))"
      ]
     },
     "metadata": {},
     "output_type": "display_data"
    },
    {
     "name": "stdout",
     "output_type": "stream",
     "text": [
      "\n"
     ]
    },
    {
     "data": {
      "text/plain": [
       "[<matplotlib.lines.Line2D at 0x2655fa43488>]"
      ]
     },
     "execution_count": 12,
     "metadata": {},
     "output_type": "execute_result"
    },
    {
     "data": {
      "image/png": "[encoded data removed]",
      "text/plain": [
       "<Figure size 432x288 with 1 Axes>"
      ]
     },
     "metadata": {
      "needs_background": "light"
     },
     "output_type": "display_data"
    }
   ],
   "source": [
    "result = []\n",
    "\n",
    "for i in tqdm(range(15)):\n",
    "    dt = DecisionTree(max_depth= i, feature_labels=features)\n",
    "    dt.fit(X_train, y_train)\n",
    "    result.append(sklearn.metrics.accuracy_score(y_val, dt.predict(X_val)))\n",
    "\n",
    "plt.plot(result)"
   ]
  },
  {
   "cell_type": "markdown",
   "metadata": {},
   "source": [
    "Titanic Decision Tree Accuracy"
   ]
  },
  {
   "cell_type": "code",
   "execution_count": 13,
   "metadata": {},
   "outputs": [
    {
     "data": {
      "text/plain": [
       "0.8"
      ]
     },
     "execution_count": 13,
     "metadata": {},
     "output_type": "execute_result"
    }
   ],
   "source": [
    "dt = DecisionTree(max_depth= 8, feature_labels=features)\n",
    "dt.fit(X_train, y_train)\n",
    "sklearn.metrics.accuracy_score(y_val, dt.predict(X_val))"
   ]
  },
  {
   "cell_type": "markdown",
   "metadata": {},
   "source": [
    "Titanic Random Forest Accuracy"
   ]
  },
  {
   "cell_type": "code",
   "execution_count": 14,
   "metadata": {
    "scrolled": true
   },
   "outputs": [
    {
     "name": "stdout",
     "output_type": "stream",
     "text": [
      "Training\n"
     ]
    },
    {
     "data": {
      "application/vnd.jupyter.widget-view+json": {
       "model_id": "c02f1264110446edb1bd0b104eea2575",
       "version_major": 2,
       "version_minor": 0
      },
      "text/plain": [
       "HBox(children=(FloatProgress(value=0.0, max=200.0), HTML(value='')))"
      ]
     },
     "metadata": {},
     "output_type": "display_data"
    },
    {
     "name": "stdout",
     "output_type": "stream",
     "text": [
      "\n",
      "Predicting\n"
     ]
    },
    {
     "data": {
      "application/vnd.jupyter.widget-view+json": {
       "model_id": "a0257779114c45a0b1d9dbdf5adb9794",
       "version_major": 2,
       "version_minor": 0
      },
      "text/plain": [
       "HBox(children=(FloatProgress(value=0.0, max=200.0), HTML(value='')))"
      ]
     },
     "metadata": {},
     "output_type": "display_data"
    },
    {
     "name": "stdout",
     "output_type": "stream",
     "text": [
      "\n"
     ]
    },
    {
     "data": {
      "text/plain": [
       "0.855"
      ]
     },
     "execution_count": 14,
     "metadata": {},
     "output_type": "execute_result"
    }
   ],
   "source": [
    "rf = RandomForest(features=features, max_depth= 8, n = 200, m = 4)\n",
    "rf.fit(X_train, y_train)\n",
    "sklearn.metrics.accuracy_score(y_val, rf.predict(X_val))"
   ]
  },
  {
   "cell_type": "code",
   "execution_count": 15,
   "metadata": {},
   "outputs": [
    {
     "name": "stdout",
     "output_type": "stream",
     "text": [
      "Predicting\n"
     ]
    },
    {
     "data": {
      "application/vnd.jupyter.widget-view+json": {
       "model_id": "7ccb0424a3154e1a85241bbbafc571ef",
       "version_major": 2,
       "version_minor": 0
      },
      "text/plain": [
       "HBox(children=(FloatProgress(value=0.0, max=200.0), HTML(value='')))"
      ]
     },
     "metadata": {},
     "output_type": "display_data"
    },
    {
     "name": "stdout",
     "output_type": "stream",
     "text": [
      "\n"
     ]
    },
    {
     "data": {
      "text/plain": [
       "array([1., 1., 0., 0., 0., 1., 0., 0., 0., 0., 1., 1., 0., 0., 1., 1., 1.,\n",
       "       0., 0., 0., 0., 0., 0., 1., 0., 0., 1., 1., 0., 0., 0., 0., 0., 0.,\n",
       "       0., 0., 0., 0., 0., 0., 0., 1., 0., 0., 1., 0., 0., 0., 1., 0., 0.,\n",
       "       0., 0., 0., 0., 1., 0., 1., 0., 0., 0., 1., 0., 0., 1., 1., 0., 1.,\n",
       "       1., 0., 1., 0., 1., 0., 0., 0., 0., 0., 0., 1., 0., 0., 1., 0., 0.,\n",
       "       1., 0., 0., 1., 0., 1., 0., 0., 1., 0., 0., 1., 0., 0., 0., 1., 0.,\n",
       "       0., 0., 1., 1., 1., 1., 0., 0., 0., 0., 1., 0., 1., 1., 1., 1., 0.,\n",
       "       1., 1., 1., 0., 1., 1., 0., 0., 0., 0., 0., 1., 0., 0., 0., 0., 0.,\n",
       "       0., 1., 0., 0., 1., 1., 1., 0., 0., 1., 0., 0., 0., 0., 1., 0., 0.,\n",
       "       0., 1., 0., 0., 1., 0., 1., 1., 0., 0., 1., 0., 0., 0., 0., 0., 0.,\n",
       "       0., 0., 1., 0., 0., 0., 0., 1., 1., 0., 0., 1., 1., 0., 0., 1., 0.,\n",
       "       0., 1., 0., 0., 0., 0., 0., 0., 0., 1., 0., 1., 0., 0., 1., 0., 0.,\n",
       "       0., 1., 0., 1., 1., 0., 0., 0., 0., 0., 0., 0., 0., 0., 0., 0., 0.,\n",
       "       0., 0., 1., 0., 1., 0., 0., 0., 0., 0., 1., 0., 1., 0., 1., 1., 0.,\n",
       "       1., 0., 0., 0., 1., 1., 0., 0., 0., 1., 0., 1., 0., 1., 0., 1., 0.,\n",
       "       0., 0., 0., 0., 1., 0., 0., 0., 1., 1., 0., 0., 0., 0., 1., 1., 0.,\n",
       "       1., 0., 0., 0., 0., 0., 1., 0., 1., 0., 0., 0., 0., 0., 0., 0., 0.,\n",
       "       0., 0., 0., 0., 0., 0., 1., 1., 0., 0., 0., 0., 1., 1., 0., 0., 0.,\n",
       "       1., 0., 0., 0.])"
      ]
     },
     "execution_count": 15,
     "metadata": {},
     "output_type": "execute_result"
    }
   ],
   "source": [
    "titanic_test_preds = rf.predict(Z)\n",
    "titanic_test_preds"
   ]
  },
  {
   "cell_type": "code",
   "execution_count": 16,
   "metadata": {},
   "outputs": [
    {
     "name": "stdout",
     "output_type": "stream",
     "text": [
      "Features: ['pain', 'private', 'bank', 'money', 'drug', 'spam', 'prescription', 'creative', 'height', 'featured', 'differ', 'width', 'other', 'energy', 'business', 'message', 'volumes', 'revision', 'path', 'meter', 'memo', 'planning', 'pleased', 'record', 'out', 'semicolon', 'dollar', 'sharp', 'exclamation', 'parenthesis', 'square_bracket', 'ampersand']\n",
      "Train/test size: (5172, 32) (5857, 32)\n",
      "\n",
      "\n",
      "Part 0: constant classifier\n",
      "Accuracy 0.7099767981438515\n"
     ]
    }
   ],
   "source": [
    "dataset = \"spam\"\n",
    "params = {\n",
    "    \"max_depth\": 5,\n",
    "    # \"random_state\": 6,\n",
    "    \"min_samples_leaf\": 10,\n",
    "}\n",
    "N = 100\n",
    "features = [\n",
    "    \"pain\", \"private\", \"bank\", \"money\", \"drug\", \"spam\", \"prescription\", \"creative\",\n",
    "    \"height\", \"featured\", \"differ\", \"width\", \"other\", \"energy\", \"business\", \"message\",\n",
    "    \"volumes\", \"revision\", \"path\", \"meter\", \"memo\", \"planning\", \"pleased\", \"record\", \"out\",\n",
    "    \"semicolon\", \"dollar\", \"sharp\", \"exclamation\", \"parenthesis\", \"square_bracket\",\n",
    "    \"ampersand\"\n",
    "]\n",
    "assert len(features) == 32\n",
    "\n",
    "# Load spam data\n",
    "path_train = 'spam_data.mat'\n",
    "data = scipy.io.loadmat(path_train)\n",
    "X = data['training_data']\n",
    "y = np.squeeze(data['training_labels'])\n",
    "Z = data['test_data']\n",
    "class_names = [\"Ham\", \"Spam\"]\n",
    "print(\"Features:\", features)\n",
    "print(\"Train/test size:\", X.shape, Z.shape)\n",
    "\n",
    "print(\"\\n\\nPart 0: constant classifier\")\n",
    "print(\"Accuracy\", 1 - np.sum(y) / y.size)\n"
   ]
  },
  {
   "cell_type": "code",
   "execution_count": 17,
   "metadata": {},
   "outputs": [],
   "source": [
    "X_train, X_val, y_train, y_val = train_test_split(X, y, test_size = 0.2)"
   ]
  },
  {
   "cell_type": "code",
   "execution_count": 18,
   "metadata": {},
   "outputs": [
    {
     "name": "stderr",
     "output_type": "stream",
     "text": [
      "C:\\ProgramData\\Anaconda3\\lib\\site-packages\\ipykernel_launcher.py:3: TqdmDeprecationWarning: This function will be removed in tqdm==5.0.0\n",
      "Please use `tqdm.notebook.tqdm` instead of `tqdm.tqdm_notebook`\n",
      "  This is separate from the ipykernel package so we can avoid doing imports until\n"
     ]
    },
    {
     "data": {
      "application/vnd.jupyter.widget-view+json": {
       "model_id": "4c4d3eb55f6345009b2e226092477338",
       "version_major": 2,
       "version_minor": 0
      },
      "text/plain": [
       "HBox(children=(FloatProgress(value=0.0, max=20.0), HTML(value='')))"
      ]
     },
     "metadata": {},
     "output_type": "display_data"
    },
    {
     "name": "stdout",
     "output_type": "stream",
     "text": [
      "\n"
     ]
    },
    {
     "data": {
      "text/plain": [
       "[<matplotlib.lines.Line2D at 0x2655f727408>]"
      ]
     },
     "execution_count": 18,
     "metadata": {},
     "output_type": "execute_result"
    },
    {
     "data": {
      "image/png": "[encoded data removed]",
      "text/plain": [
       "<Figure size 432x288 with 1 Axes>"
      ]
     },
     "metadata": {
      "needs_background": "light"
     },
     "output_type": "display_data"
    }
   ],
   "source": [
    "result = []\n",
    "\n",
    "for i in tqdm(range(20)):\n",
    "    dt = DecisionTree(max_depth= i, feature_labels=features)\n",
    "    dt.fit(X_train, y_train)\n",
    "    result.append(sklearn.metrics.accuracy_score(y_val, dt.predict(X_val)))\n",
    "\n",
    "plt.plot(result)"
   ]
  },
  {
   "cell_type": "markdown",
   "metadata": {},
   "source": [
    "Spam Decision Tree Accuracy"
   ]
  },
  {
   "cell_type": "code",
   "execution_count": 19,
   "metadata": {},
   "outputs": [
    {
     "data": {
      "text/plain": [
       "0.8396135265700483"
      ]
     },
     "execution_count": 19,
     "metadata": {},
     "output_type": "execute_result"
    }
   ],
   "source": [
    "dt = DecisionTree(max_depth= 12, feature_labels=features)\n",
    "dt.fit(X_train, y_train)\n",
    "sklearn.metrics.accuracy_score(y_val, dt.predict(X_val))"
   ]
  },
  {
   "cell_type": "markdown",
   "metadata": {},
   "source": [
    "Spam Random Forest Accuracy"
   ]
  },
  {
   "cell_type": "code",
   "execution_count": 20,
   "metadata": {},
   "outputs": [
    {
     "name": "stdout",
     "output_type": "stream",
     "text": [
      "Training\n"
     ]
    },
    {
     "data": {
      "application/vnd.jupyter.widget-view+json": {
       "model_id": "1e6bf054ee894e8da233c508b77f6bf5",
       "version_major": 2,
       "version_minor": 0
      },
      "text/plain": [
       "HBox(children=(FloatProgress(value=0.0, max=200.0), HTML(value='')))"
      ]
     },
     "metadata": {},
     "output_type": "display_data"
    },
    {
     "name": "stdout",
     "output_type": "stream",
     "text": [
      "\n",
      "Predicting\n"
     ]
    },
    {
     "data": {
      "application/vnd.jupyter.widget-view+json": {
       "model_id": "ffb5e54fe7f141fc85d7a4bb9c61c456",
       "version_major": 2,
       "version_minor": 0
      },
      "text/plain": [
       "HBox(children=(FloatProgress(value=0.0, max=200.0), HTML(value='')))"
      ]
     },
     "metadata": {},
     "output_type": "display_data"
    },
    {
     "name": "stdout",
     "output_type": "stream",
     "text": [
      "\n"
     ]
    },
    {
     "data": {
      "text/plain": [
       "0.8434782608695652"
      ]
     },
     "execution_count": 20,
     "metadata": {},
     "output_type": "execute_result"
    }
   ],
   "source": [
    "rf = RandomForest(features=features, max_depth= 10, n = 200, m = 6)\n",
    "rf.fit(X_train, y_train)\n",
    "sklearn.metrics.accuracy_score(y_val, rf.predict(X_val))"
   ]
  },
  {
   "cell_type": "code",
   "execution_count": 21,
   "metadata": {},
   "outputs": [
    {
     "name": "stdout",
     "output_type": "stream",
     "text": [
      "Predicting\n"
     ]
    },
    {
     "data": {
      "application/vnd.jupyter.widget-view+json": {
       "model_id": "71feccb0e03a4f6887cb611362936571",
       "version_major": 2,
       "version_minor": 0
      },
      "text/plain": [
       "HBox(children=(FloatProgress(value=0.0, max=200.0), HTML(value='')))"
      ]
     },
     "metadata": {},
     "output_type": "display_data"
    },
    {
     "name": "stdout",
     "output_type": "stream",
     "text": [
      "\n"
     ]
    },
    {
     "data": {
      "text/plain": [
       "array([0., 0., 0., ..., 0., 0., 0.])"
      ]
     },
     "execution_count": 21,
     "metadata": {},
     "output_type": "execute_result"
    }
   ],
   "source": [
    "spam_test_preds = rf.predict(Z)\n",
    "spam_test_preds"
   ]
  },
  {
   "cell_type": "markdown",
   "metadata": {},
   "source": [
    "## Part 3.5\n",
    "\n",
    "I decided to go one step further and just print the entire decision tree I fit for spam. This is what it looks like"
   ]
  },
  {
   "cell_type": "code",
   "execution_count": 22,
   "metadata": {
    "scrolled": false
   },
   "outputs": [
    {
     "name": "stdout",
     "output_type": "stream",
     "text": [
      "Pred None. Splitting on exclamation with thresh 1e-05\n",
      "  Pred None. Splitting on meter with thresh 1e-05\n",
      "    Pred None. Splitting on parenthesis with thresh 1e-05\n",
      "      Pred None. Splitting on ampersand with thresh 1e-05\n",
      "        Pred None. Splitting on volumes with thresh 1e-05\n",
      "          Final Pred : None\n",
      "            Pred None. Splitting on semicolon with thresh 1e-05\n",
      "              Pred None. Splitting on prescription with thresh 1e-05\n",
      "                Pred None. Splitting on square_bracket with thresh 1e-05\n",
      "                  Pred None. Splitting on energy with thresh 1.333338888888889\n",
      "                    Pred None. Splitting on differ with thresh 1e-05\n",
      "                      Pred None. Splitting on memo with thresh 1e-05\n",
      "                        Final Pred : 0\n",
      "                        Final Pred : 0\n",
      "                      Final Pred : 1\n",
      "                    Final Pred : 0\n",
      "                  Pred None. Splitting on message with thresh 1e-05\n",
      "                    Pred None. Splitting on square_bracket with thresh 1.00001\n",
      "                      Final Pred : 1\n",
      "                      Pred None. Splitting on spam with thresh 1e-05\n",
      "                        Final Pred : 0\n",
      "                        Final Pred : 1\n",
      "                    Pred None. Splitting on message with thresh 1.00001\n",
      "                      Pred None. Splitting on energy with thresh 1e-05\n",
      "                        Final Pred : 0\n",
      "                        Final Pred : 0\n",
      "                      Final Pred : 1\n",
      "                Final Pred : 1\n",
      "              Pred None. Splitting on dollar with thresh 1.0000077777777778\n",
      "                Pred None. Splitting on spam with thresh 1e-05\n",
      "                  Pred None. Splitting on revision with thresh 1e-05\n",
      "                    Pred None. Splitting on business with thresh 1e-05\n",
      "                      Pred None. Splitting on semicolon with thresh 5.222227777777778\n",
      "                        Final Pred : 0\n",
      "                        Final Pred : 0\n",
      "                      Final Pred : 0\n",
      "                    Final Pred : 0\n",
      "                  Final Pred : 1\n",
      "                Final Pred : 1\n",
      "            Pred None. Splitting on square_bracket with thresh 1e-05\n",
      "              Final Pred : None\n",
      "                Final Pred : 1\n",
      "                Final Pred : None\n",
      "                  Final Pred : 1\n",
      "                  Final Pred : 1\n",
      "              Final Pred : None\n",
      "                Final Pred : 0\n",
      "                Final Pred : 1\n",
      "          Final Pred : 0\n",
      "        Pred None. Splitting on dollar with thresh 2.0000055555555556\n",
      "          Pred None. Splitting on prescription with thresh 1e-05\n",
      "            Pred None. Splitting on sharp with thresh 1e-05\n",
      "              Pred None. Splitting on ampersand with thresh 1.00001\n",
      "                Pred None. Splitting on business with thresh 1e-05\n",
      "                  Pred None. Splitting on message with thresh 1e-05\n",
      "                    Pred None. Splitting on volumes with thresh 1e-05\n",
      "                      Pred None. Splitting on out with thresh 1e-05\n",
      "                        Final Pred : 0\n",
      "                        Final Pred : 0\n",
      "                      Final Pred : 0\n",
      "                    Pred None. Splitting on message with thresh 1.00001\n",
      "                      Pred None. Splitting on path with thresh 1e-05\n",
      "                        Final Pred : 0\n",
      "                        Final Pred : 0\n",
      "                      Final Pred : 0\n",
      "                  Pred None. Splitting on out with thresh 1e-05\n",
      "                    Final Pred : 0\n",
      "                    Final Pred : 1\n",
      "                Final Pred : 0\n",
      "              Pred None. Splitting on sharp with thresh 1.00001\n",
      "                Pred None. Splitting on semicolon with thresh 1e-05\n",
      "                  Pred None. Splitting on ampersand with thresh 1.00001\n",
      "                    Final Pred : 0\n",
      "                    Pred None. Splitting on volumes with thresh 1e-05\n",
      "                      Pred None. Splitting on dollar with thresh 1e-05\n",
      "                        Final Pred : 1\n",
      "                        Final Pred : 0\n",
      "                      Final Pred : 0\n",
      "                  Final Pred : 1\n",
      "                Final Pred : 0\n",
      "            Final Pred : 1\n",
      "          Final Pred : 1\n",
      "      Pred None. Splitting on dollar with thresh 1e-05\n",
      "        Pred None. Splitting on differ with thresh 1e-05\n",
      "          Pred None. Splitting on money with thresh 1e-05\n",
      "            Pred None. Splitting on energy with thresh 1e-05\n",
      "              Pred None. Splitting on message with thresh 1e-05\n",
      "                Pred None. Splitting on semicolon with thresh 4.666661111111111\n",
      "                  Final Pred : None\n",
      "                    Pred None. Splitting on bank with thresh 1e-05\n",
      "                      Pred None. Splitting on out with thresh 1.0000033333333334\n",
      "                        Final Pred : 0\n",
      "                        Final Pred : 0\n",
      "                      Pred None. Splitting on parenthesis with thresh 1.00001\n",
      "                        Final Pred : 1\n",
      "                        Final Pred : 0\n",
      "                    Final Pred : 1\n",
      "                  Pred None. Splitting on ampersand with thresh 2.0000055555555556\n",
      "                    Final Pred : 1\n",
      "                    Final Pred : 0\n",
      "                Pred None. Splitting on sharp with thresh 1.3333366666666666\n",
      "                  Pred None. Splitting on message with thresh 2.7777833333333337\n",
      "                    Pred None. Splitting on other with thresh 1e-05\n",
      "                      Pred None. Splitting on out with thresh 1e-05\n",
      "                        Final Pred : 0\n",
      "                        Final Pred : 0\n",
      "                      Pred None. Splitting on business with thresh 1e-05\n",
      "                        Final Pred : 0\n",
      "                        Final Pred : 1\n",
      "                    Final Pred : 0\n",
      "                  Final Pred : 1\n",
      "              Final Pred : 0\n",
      "            Pred None. Splitting on money with thresh 1.00001\n",
      "              Pred None. Splitting on parenthesis with thresh 2.333336666666667\n",
      "                Pred None. Splitting on parenthesis with thresh 1.00001\n",
      "                  Final Pred : 0\n",
      "                  Final Pred : 1\n",
      "                Final Pred : 0\n",
      "              Final Pred : 1\n",
      "          Final Pred : 1\n",
      "        Pred None. Splitting on private with thresh 1e-05\n",
      "          Pred None. Splitting on bank with thresh 1e-05\n",
      "            Pred None. Splitting on square_bracket with thresh 1e-05\n",
      "              Pred None. Splitting on differ with thresh 1e-05\n",
      "                Pred None. Splitting on volumes with thresh 1e-05\n",
      "                  Pred None. Splitting on energy with thresh 1e-05\n",
      "                    Pred None. Splitting on sharp with thresh 1e-05\n",
      "                      Pred None. Splitting on dollar with thresh 6.333334444444445\n",
      "                        Final Pred : 0\n",
      "                        Final Pred : 0\n",
      "                      Pred None. Splitting on dollar with thresh 1.00001\n",
      "                        Final Pred : 0\n",
      "                        Final Pred : 0\n",
      "                    Final Pred : 0\n",
      "                  Final Pred : 0\n",
      "                Final Pred : 1\n",
      "              Final Pred : None\n",
      "                Final Pred : 1\n",
      "                Final Pred : 1\n",
      "            Final Pred : 1\n",
      "          Final Pred : 1\n",
      "    Final Pred : 0\n",
      "  Pred None. Splitting on meter with thresh 1e-05\n",
      "    Pred None. Splitting on ampersand with thresh 1e-05\n",
      "      Pred None. Splitting on money with thresh 1e-05\n",
      "        Pred None. Splitting on dollar with thresh 1e-05\n",
      "          Pred None. Splitting on message with thresh 1e-05\n",
      "            Pred None. Splitting on prescription with thresh 1e-05\n",
      "              Pred None. Splitting on parenthesis with thresh 1e-05\n",
      "                Final Pred : None\n",
      "                  Pred None. Splitting on semicolon with thresh 1e-05\n",
      "                    Pred None. Splitting on sharp with thresh 1.0000033333333334\n",
      "                      Pred None. Splitting on business with thresh 1.3333366666666666\n",
      "                        Final Pred : 1\n",
      "                        Final Pred : 0\n",
      "                      Pred None. Splitting on width with thresh 1e-05\n",
      "                        Final Pred : 0\n",
      "                        Final Pred : 1\n",
      "                    Pred None. Splitting on volumes with thresh 1e-05\n",
      "                      Pred None. Splitting on exclamation with thresh 1.00001\n",
      "                        Final Pred : 1\n",
      "                        Final Pred : 1\n",
      "                      Final Pred : 0\n",
      "                  Final Pred : None\n",
      "                    Final Pred : 1\n",
      "                    Final Pred : 1\n",
      "                Pred None. Splitting on drug with thresh 1e-05\n",
      "                  Pred None. Splitting on volumes with thresh 1e-05\n",
      "                    Pred None. Splitting on parenthesis with thresh 4.333332222222223\n",
      "                      Final Pred : None\n",
      "                        Final Pred : 0\n",
      "                        Final Pred : 1\n",
      "                      Final Pred : 1\n",
      "                    Final Pred : 0\n",
      "                  Final Pred : 1\n",
      "              Final Pred : None\n",
      "                Final Pred : 1\n",
      "                Final Pred : None\n",
      "                  Final Pred : 1\n",
      "                  Final Pred : 1\n",
      "            Final Pred : None\n",
      "              Pred None. Splitting on spam with thresh 1e-05\n",
      "                Pred None. Splitting on semicolon with thresh 1e-05\n",
      "                  Pred None. Splitting on parenthesis with thresh 2.888894444444445\n",
      "                    Pred None. Splitting on message with thresh 2.11111\n",
      "                      Pred None. Splitting on message with thresh 1.00001\n",
      "                        Final Pred : 0\n",
      "                        Final Pred : 1\n",
      "                      Final Pred : 0\n",
      "                    Final Pred : 0\n",
      "                  Final Pred : 0\n",
      "                Final Pred : 1\n",
      "              Final Pred : None\n",
      "                Final Pred : 1\n",
      "                Final Pred : 1\n",
      "          Pred None. Splitting on volumes with thresh 1e-05\n",
      "            Pred None. Splitting on spam with thresh 1e-05\n",
      "              Pred None. Splitting on message with thresh 2.222223333333334\n",
      "                Pred None. Splitting on featured with thresh 1e-05\n",
      "                  Pred None. Splitting on square_bracket with thresh 2.0000033333333334\n",
      "                    Pred None. Splitting on dollar with thresh 1.00001\n",
      "                      Pred None. Splitting on out with thresh 1e-05\n",
      "                        Final Pred : 1\n",
      "                        Final Pred : 1\n",
      "                      Pred None. Splitting on parenthesis with thresh 1e-05\n",
      "                        Final Pred : 1\n",
      "                        Final Pred : 1\n",
      "                    Final Pred : 0\n",
      "                  Final Pred : None\n",
      "                    Final Pred : 1\n",
      "                    Final Pred : 1\n",
      "                Final Pred : 0\n",
      "              Final Pred : None\n",
      "                Final Pred : 1\n",
      "                Final Pred : 1\n",
      "            Final Pred : 0\n",
      "        Pred None. Splitting on parenthesis with thresh 1e-05\n",
      "          Final Pred : None\n",
      "            Final Pred : 1\n",
      "            Final Pred : 1\n",
      "          Pred None. Splitting on business with thresh 1e-05\n",
      "            Pred None. Splitting on other with thresh 1e-05\n",
      "              Pred None. Splitting on exclamation with thresh 3.666674444444445\n",
      "                Pred None. Splitting on out with thresh 1e-05\n",
      "                  Final Pred : 1\n",
      "                  Pred None. Splitting on exclamation with thresh 1.00001\n",
      "                    Final Pred : 0\n",
      "                    Final Pred : 1\n",
      "                Pred None. Splitting on exclamation with thresh 4.00001\n",
      "                  Final Pred : 0\n",
      "                  Pred None. Splitting on dollar with thresh 4.000003333333334\n",
      "                    Final Pred : 1\n",
      "                    Final Pred : 0\n",
      "              Final Pred : 1\n",
      "            Final Pred : 1\n",
      "      Pred None. Splitting on out with thresh 1e-05\n",
      "        Pred None. Splitting on other with thresh 1e-05\n",
      "          Pred None. Splitting on money with thresh 1e-05\n",
      "            Pred None. Splitting on dollar with thresh 13.999994444444443\n",
      "              Pred None. Splitting on message with thresh 1e-05\n",
      "                Pred None. Splitting on volumes with thresh 1e-05\n",
      "                  Pred None. Splitting on bank with thresh 1e-05\n",
      "                    Pred None. Splitting on prescription with thresh 1e-05\n",
      "                      Pred None. Splitting on semicolon with thresh 1.3333366666666666\n",
      "                        Final Pred : 0\n",
      "                        Final Pred : 1\n",
      "                      Final Pred : 1\n",
      "                    Final Pred : 1\n",
      "                  Final Pred : 0\n",
      "                Final Pred : 0\n",
      "              Final Pred : 1\n",
      "            Final Pred : 1\n",
      "          Final Pred : 0\n",
      "        Final Pred : 0\n",
      "    Final Pred : 0\n"
     ]
    }
   ],
   "source": [
    "print_tree(dt)"
   ]
  },
  {
   "cell_type": "code",
   "execution_count": 23,
   "metadata": {},
   "outputs": [
    {
     "name": "stderr",
     "output_type": "stream",
     "text": [
      "C:\\ProgramData\\Anaconda3\\lib\\site-packages\\ipykernel_launcher.py:3: TqdmDeprecationWarning: This function will be removed in tqdm==5.0.0\n",
      "Please use `tqdm.notebook.tqdm` instead of `tqdm.tqdm_notebook`\n",
      "  This is separate from the ipykernel package so we can avoid doing imports until\n"
     ]
    },
    {
     "data": {
      "application/vnd.jupyter.widget-view+json": {
       "model_id": "1afd17f1b2b244e78cb0212df1696654",
       "version_major": 2,
       "version_minor": 0
      },
      "text/plain": [
       "HBox(children=(FloatProgress(value=0.0, max=41.0), HTML(value='')))"
      ]
     },
     "metadata": {},
     "output_type": "display_data"
    },
    {
     "name": "stdout",
     "output_type": "stream",
     "text": [
      "\n"
     ]
    },
    {
     "data": {
      "text/plain": [
       "[<matplotlib.lines.Line2D at 0x2655fa65c88>]"
      ]
     },
     "execution_count": 23,
     "metadata": {},
     "output_type": "execute_result"
    },
    {
     "data": {
      "image/png": "[encoded data removed]",
      "text/plain": [
       "<Figure size 432x288 with 1 Axes>"
      ]
     },
     "metadata": {
      "needs_background": "light"
     },
     "output_type": "display_data"
    }
   ],
   "source": [
    "result = []\n",
    "\n",
    "for i in tqdm(range(41)):\n",
    "    dt = DecisionTree(max_depth= i, feature_labels=features)\n",
    "    dt.fit(X_train, y_train)\n",
    "    result.append(sklearn.metrics.accuracy_score(y_val, dt.predict(X_val)))\n",
    "\n",
    "plt.plot(result)"
   ]
  },
  {
   "cell_type": "markdown",
   "metadata": {},
   "source": [
    "## Part 3.6"
   ]
  },
  {
   "cell_type": "code",
   "execution_count": 24,
   "metadata": {},
   "outputs": [
    {
     "name": "stdout",
     "output_type": "stream",
     "text": [
      "\n",
      "\n",
      "Part (b): preprocessing the titanic dataset\n",
      "Features: [b'pclass', b'sex', b'age', b'sibsp', b'parch', b'ticket', b'fare', b'cabin', b'embarked', b'male', b'female', b'S', b'C', b'Q']\n",
      "Train/test size: (999, 14) (310, 14)\n",
      "\n",
      "\n",
      "Part 0: constant classifier\n",
      "Accuracy 0.6136136136136137\n"
     ]
    },
    {
     "name": "stderr",
     "output_type": "stream",
     "text": [
      "C:\\ProgramData\\Anaconda3\\lib\\site-packages\\ipykernel_launcher.py:10: VisibleDeprecationWarning: Reading unicode strings without specifying the encoding argument is deprecated. Set the encoding, use None for the system default.\n",
      "  # Remove the CWD from sys.path while we load stuff.\n",
      "C:\\ProgramData\\Anaconda3\\lib\\site-packages\\ipykernel_launcher.py:12: VisibleDeprecationWarning: Reading unicode strings without specifying the encoding argument is deprecated. Set the encoding, use None for the system default.\n",
      "  if sys.path[0] == '':\n"
     ]
    }
   ],
   "source": [
    "# Load titanic data\n",
    "dataset = \"titanic\"\n",
    "params = {\n",
    "    \"max_depth\": 5,\n",
    "    # \"random_state\": 6,\n",
    "    \"min_samples_leaf\": 10,\n",
    "}\n",
    "N = 100\n",
    "path_train = 'titanic_training.csv'\n",
    "data = genfromtxt(path_train, delimiter=',', dtype=None)\n",
    "path_test = 'titanic_testing_data.csv'\n",
    "test_data = genfromtxt(path_test, delimiter=',', dtype=None)\n",
    "y = data[1:, 0]  # label = survived\n",
    "class_names = [\"Died\", \"Survived\"]\n",
    "\n",
    "labeled_idx = np.where(y != b'')[0]\n",
    "y = np.array(y[labeled_idx], dtype=np.int)\n",
    "print(\"\\n\\nPart (b): preprocessing the titanic dataset\")\n",
    "X, onehot_features = preprocess(data[1:, 1:], onehot_cols=[1, 5, 7, 8])\n",
    "X = X[labeled_idx, :]\n",
    "Z, _ = preprocess(test_data[1:, :], onehot_cols=[1, 5, 7, 8])\n",
    "assert X.shape[1] == Z.shape[1]\n",
    "features = list(data[0, 1:]) + onehot_features\n",
    "\n",
    "print(\"Features:\", features)\n",
    "print(\"Train/test size:\", X.shape, Z.shape)\n",
    "\n",
    "print(\"\\n\\nPart 0: constant classifier\")\n",
    "print(\"Accuracy\", 1 - np.sum(y) / y.size)\n",
    "X_train, X_val, y_train, y_val = train_test_split(X, y, test_size = 0.2)"
   ]
  },
  {
   "cell_type": "code",
   "execution_count": 25,
   "metadata": {},
   "outputs": [
    {
     "data": {
      "text/plain": [
       "0.76"
      ]
     },
     "execution_count": 25,
     "metadata": {},
     "output_type": "execute_result"
    }
   ],
   "source": [
    "dt = DecisionTree(max_depth= 3, feature_labels=features)\n",
    "dt.fit(X_train, y_train)\n",
    "sklearn.metrics.accuracy_score(y_val, dt.predict(X_val))\n"
   ]
  },
  {
   "cell_type": "code",
   "execution_count": 26,
   "metadata": {},
   "outputs": [
    {
     "name": "stdout",
     "output_type": "stream",
     "text": [
      "Pred None. Splitting on b'male' with thresh 1e-05\n",
      "  Final Pred : None\n",
      "    Pred None. Splitting on b'S' with thresh 1e-05\n",
      "      Final Pred : 1\n",
      "      Final Pred : 1\n",
      "    Pred None. Splitting on b'S' with thresh 1e-05\n",
      "      Final Pred : 1\n",
      "      Final Pred : 0\n",
      "  Final Pred : None\n",
      "    Pred None. Splitting on b'age' with thresh 61.99999444444444\n",
      "      Final Pred : 0\n",
      "      Final Pred : 0\n",
      "    Pred None. Splitting on b'sibsp' with thresh 2.6666700000000003\n",
      "      Final Pred : 0\n",
      "      Final Pred : 0\n"
     ]
    }
   ],
   "source": [
    "print_tree(dt)"
   ]
  },
  {
   "cell_type": "markdown",
   "metadata": {},
   "source": [
    "# Submitting To Kaggle"
   ]
  },
  {
   "cell_type": "markdown",
   "metadata": {},
   "source": [
    "Username: aryanluthra\n",
    "\n",
    "Display Name: Aryan Luthra\n"
   ]
  },
  {
   "cell_type": "code",
   "execution_count": 29,
   "metadata": {},
   "outputs": [
    {
     "data": {
      "text/plain": [
       "array([1., 1., 0., 0., 0., 1., 0., 0., 0., 0., 1., 1., 0., 0., 1., 1., 1.,\n",
       "       0., 0., 0., 0., 0., 0., 1., 0., 0., 1., 1., 0., 0., 0., 0., 0., 0.,\n",
       "       0., 0., 0., 0., 0., 0., 0., 1., 0., 0., 1., 0., 0., 0., 1., 0., 0.,\n",
       "       0., 0., 0., 0., 1., 0., 1., 0., 0., 0., 1., 0., 0., 1., 1., 0., 1.,\n",
       "       1., 0., 1., 0., 1., 0., 0., 0., 0., 0., 0., 1., 0., 0., 1., 0., 0.,\n",
       "       1., 0., 0., 1., 0., 1., 0., 0., 1., 0., 0., 1., 0., 0., 0., 1., 0.,\n",
       "       0., 0., 1., 1., 1., 1., 0., 0., 0., 0., 1., 0., 1., 1., 1., 1., 0.,\n",
       "       1., 1., 1., 0., 1., 1., 0., 0., 0., 0., 0., 1., 0., 0., 0., 0., 0.,\n",
       "       0., 1., 0., 0., 1., 1., 1., 0., 0., 1., 0., 0., 0., 0., 1., 0., 0.,\n",
       "       0., 1., 0., 0., 1., 0., 1., 1., 0., 0., 1., 0., 0., 0., 0., 0., 0.,\n",
       "       0., 0., 1., 0., 0., 0., 0., 1., 1., 0., 0., 1., 1., 0., 0., 1., 0.,\n",
       "       0., 1., 0., 0., 0., 0., 0., 0., 0., 1., 0., 1., 0., 0., 1., 0., 0.,\n",
       "       0., 1., 0., 1., 1., 0., 0., 0., 0., 0., 0., 0., 0., 0., 0., 0., 0.,\n",
       "       0., 0., 1., 0., 1., 0., 0., 0., 0., 0., 1., 0., 1., 0., 1., 1., 0.,\n",
       "       1., 0., 0., 0., 1., 1., 0., 0., 0., 1., 0., 1., 0., 1., 0., 1., 0.,\n",
       "       0., 0., 0., 0., 1., 0., 0., 0., 1., 1., 0., 0., 0., 0., 1., 1., 0.,\n",
       "       1., 0., 0., 0., 0., 0., 1., 0., 1., 0., 0., 0., 0., 0., 0., 0., 0.,\n",
       "       0., 0., 0., 0., 0., 0., 1., 1., 0., 0., 0., 0., 1., 1., 0., 0., 0.,\n",
       "       1., 0., 0., 0.])"
      ]
     },
     "execution_count": 29,
     "metadata": {},
     "output_type": "execute_result"
    }
   ],
   "source": [
    "titanic_test_preds"
   ]
  },
  {
   "cell_type": "code",
   "execution_count": 30,
   "metadata": {},
   "outputs": [],
   "source": [
    "from save_csv import results_to_csv"
   ]
  },
  {
   "cell_type": "code",
   "execution_count": 31,
   "metadata": {},
   "outputs": [],
   "source": [
    "results_to_csv(titanic_test_preds)"
   ]
  },
  {
   "cell_type": "code",
   "execution_count": 34,
   "metadata": {},
   "outputs": [
    {
     "data": {
      "text/plain": [
       "array([0., 0., 0., ..., 0., 0., 0.])"
      ]
     },
     "execution_count": 34,
     "metadata": {},
     "output_type": "execute_result"
    }
   ],
   "source": [
    "spam_test_preds"
   ]
  },
  {
   "cell_type": "code",
   "execution_count": 36,
   "metadata": {},
   "outputs": [
    {
     "data": {
      "text/plain": [
       "(array([0., 1.]), array([4519, 1338], dtype=int64))"
      ]
     },
     "execution_count": 36,
     "metadata": {},
     "output_type": "execute_result"
    }
   ],
   "source": [
    "np.unique(spam_test_preds, return_counts = True)"
   ]
  },
  {
   "cell_type": "code",
   "execution_count": 37,
   "metadata": {},
   "outputs": [],
   "source": [
    "results_to_csv(spam_test_preds)"
   ]
  },
  {
   "cell_type": "code",
   "execution_count": null,
   "metadata": {},
   "outputs": [],
   "source": []
  }
 ],
 "metadata": {
  "kernelspec": {
   "display_name": "Python 3",
   "language": "python",
   "name": "python3"
  },
  "language_info": {
   "codemirror_mode": {
    "name": "ipython",
    "version": 3
   },
   "file_extension": ".py",
   "mimetype": "text/x-python",
   "name": "python",
   "nbconvert_exporter": "python",
   "pygments_lexer": "ipython3",
   "version": "3.7.6"
  }
 },
 "nbformat": 4,
 "nbformat_minor": 2
}
